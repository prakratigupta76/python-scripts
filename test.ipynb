{
 "cells": [
  {
   "cell_type": "code",
   "execution_count": null,
   "metadata": {},
   "outputs": [
    {
     "data": {
      "text/plain": [
       "Traceback (most recent call last):\n",
       "  File \"/Users/prakratigupta/.vscode/extensions/ms-python.python-2025.4.0-darwin-x64/python_files/python_server.py\", line 133, in exec_user_input\n",
       "    retval = callable_(user_input, user_globals)\n",
       "  File \"<string>\", line 2, in <module>\n",
       "ModuleNotFoundError: No module named 'matplotlib'\n",
       "\n"
      ]
     },
     "metadata": {},
     "output_type": "display_data"
    }
   ],
   "source": [
    "import numpy as np\n",
    "import matplotlib.pyplot as plt\n",
    "\n",
    "# Create a skewed population (exponential)\n",
    "population = np.random.exponential(scale=2.0, size=100000)\n",
    "\n",
    "sample_means = []\n",
    "sample_size = 50  # Try changing this to 5, 30, 100\n",
    "\n",
    "# Take 1000 samples of size n\n",
    "for _ in range(1000):\n",
    "    sample = np.random.choice(population, size=sample_size)\n",
    "    sample_means.append(np.mean(sample))\n",
    "\n",
    "# Plot the sample means\n",
    "plt.hist(sample_means, bins=40, color='skyblue', edgecolor='black')\n",
    "plt.title(f\"CLT Demonstration with Sample Size = {sample_size}\")\n",
    "plt.xlabel(\"Sample Mean\")\n",
    "plt.ylabel(\"Frequency\")\n",
    "plt.grid(True)\n",
    "plt.show()\n"
   ]
  },
  {
   "cell_type": "code",
   "execution_count": null,
   "metadata": {},
   "outputs": [],
   "source": [
    "\n",
    "\n",
    "# Create a skewed population (exponential)\n",
    "population = np.random.exponential(scale=2.0, size=100000)\n",
    "\n",
    "sample_means = []\n",
    "sample_size = 100  # Try changing this to 5, 30, 100\n",
    "\n",
    "# Take 1000 samples of size n\n",
    "for _ in range(10000):\n",
    "    sample = np.random.choice(population, size=sample_size)\n",
    "    sample_means.append(np.mean(sample))\n",
    "\n",
    "# Plot the sample means\n",
    "plt.hist(sample_means, bins=40, color='skyblue', edgecolor='black')\n",
    "plt.title(f\"CLT Demonstration with Sample Size = {sample_size}\")\n",
    "plt.xlabel(\"Sample Mean\")\n",
    "plt.ylabel(\"Frequency\")\n",
    "plt.grid(True)\n",
    "plt.show()\n"
   ]
  },
  {
   "cell_type": "code",
   "execution_count": null,
   "metadata": {},
   "outputs": [
    {
     "data": {
      "text/plain": [
       "T-Statistic: -2.3981, P-Value: 0.0197\n",
       "Statistically significant difference between groups.\n"
      ]
     },
     "metadata": {},
     "output_type": "display_data"
    }
   ],
   "source": [
    "import scipy.stats as stats\n",
    "\n",
    "# Generate sample data\n",
    "np.random.seed(42)\n",
    "group1 = np.random.normal(loc=50, scale=10, size=30)\n",
    "group2 = np.random.normal(loc=55, scale=10, size=30)\n",
    "\n",
    "# Perform two-sample t-test\n",
    "t_stat, p_value = stats.ttest_ind(group1, group2)\n",
    "\n",
    "print(f\"T-Statistic: {t_stat:.4f}, P-Value: {p_value:.4f}\")\n",
    "\n",
    "if p_value < 0.05:\n",
    "    print(\"Statistically significant difference between groups.\")\n",
    "else:\n",
    "    print(\"No statistically significant difference between groups.\")"
   ]
  },
  {
   "cell_type": "code",
   "execution_count": null,
   "metadata": {},
   "outputs": [
    {
     "data": {
      "text/plain": [
       "Chi-Square Statistic: 10.5292, P-Value: 0.0012\n",
       "There is a significant association between the groups.\n"
      ]
     },
     "metadata": {},
     "output_type": "display_data"
    }
   ],
   "source": [
    "import pandas as pd\n",
    "from scipy.stats import chi2_contingency\n",
    "\n",
    "# Create a contingency table\n",
    "data = [[50, 30], [20, 40]]  # Observed frequencies\n",
    "df = pd.DataFrame(data, columns=['Category A', 'Category B'], index=['Group 1', 'Group 2'])\n",
    "\n",
    "# Perform Chi-Square test\n",
    "chi2, p, dof, expected = chi2_contingency(df)\n",
    "\n",
    "print(f\"Chi-Square Statistic: {chi2:.4f}, P-Value: {p:.4f}\")\n",
    "if p < 0.05:\n",
    "    print(\"There is a significant association between the groups.\")\n",
    "else:\n",
    "    print(\"No significant association found.\")"
   ]
  },
  {
   "cell_type": "code",
   "execution_count": null,
   "metadata": {},
   "outputs": [],
   "source": []
  }
 ],
 "metadata": {
  "language_info": {
   "name": "python"
  }
 },
 "nbformat": 4,
 "nbformat_minor": 2
}
